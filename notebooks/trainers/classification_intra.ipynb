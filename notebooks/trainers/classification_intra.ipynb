{
 "cells": [
  {
   "cell_type": "code",
   "execution_count": null,
   "metadata": {},
   "outputs": [],
   "source": [
    "import os\n",
    "os.chdir('../../src')\n",
    "print(os.listdir())"
   ]
  },
  {
   "cell_type": "code",
   "execution_count": null,
   "metadata": {},
   "outputs": [],
   "source": [
    "from configs.config import Config\n",
    "from train.train import train_model\n",
    "\n",
    "# fold is fixed to 3\n",
    "seed = 42\n",
    "for in_freq in [240, 180, 120, 60]:\n",
    "    for pct_thresh in [15, 10, 5]:\n",
    "        for lookahead in [6, 4, 2]:\n",
    "            config = Config()\n",
    "            config.data_dir = '../data'\n",
    "            config.models_dir = '../models'\n",
    "            config.horizon_def = {\n",
    "                'in_freq' : in_freq,\n",
    "                'pct_thresh': pct_thresh / 100.,\n",
    "                'lookahead': lookahead\n",
    "            }   \n",
    "            config.prep_data_path = \"D:\\data\"\n",
    "            config.max_len = 64\n",
    "            config.fold = 3\n",
    "            config.model_name = f'hslstm_intra_f1-macro_on_start/in_freq{in_freq}m-lookahead{lookahead}-pct_thresh{pct_thresh}-seed{seed}'\n",
    "            config.train_with_external_drive = False\n",
    "            config.sample_run = False\n",
    "            config.lr_patience = 3\n",
    "            config.lr_multiplier = 0.5\n",
    "            config.num_epochs = 40\n",
    "            config.learning_rate = 1e-4\n",
    "            config.project_on_intrarange = True\n",
    "            config.features = config.features + ['pct_chg_low', 'pct_chg_high']\n",
    "            if not os.path.exists(f'{config.models_dir}/{config.model_name}'):\n",
    "                config.apply_seed(seed = seed)\n",
    "                results = train_model(config = config)"
   ]
  }
 ],
 "metadata": {
  "kernelspec": {
   "display_name": "Python 3",
   "language": "python",
   "name": "python3"
  },
  "language_info": {
   "codemirror_mode": {
    "name": "ipython",
    "version": 3
   },
   "file_extension": ".py",
   "mimetype": "text/x-python",
   "name": "python",
   "nbconvert_exporter": "python",
   "pygments_lexer": "ipython3",
   "version": "3.11.7"
  }
 },
 "nbformat": 4,
 "nbformat_minor": 2
}
