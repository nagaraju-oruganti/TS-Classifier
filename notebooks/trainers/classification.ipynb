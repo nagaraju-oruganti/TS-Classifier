{
 "cells": [
  {
   "cell_type": "code",
   "execution_count": null,
   "metadata": {},
   "outputs": [],
   "source": [
    "import os\n",
    "os.chdir('../../src')\n",
    "os.listdir()"
   ]
  },
  {
   "cell_type": "code",
   "execution_count": null,
   "metadata": {},
   "outputs": [],
   "source": [
    "from configs.config import Config, INPUT_FREQ, PCT_THRESHOLDS, HORIZONS\n",
    "from train.train import train_model\n",
    "\n",
    "# fold is fixed to 3\n",
    "seed = 42\n",
    "for in_freq in INPUT_FREQ[::-1]:\n",
    "    for lookahead in HORIZONS:\n",
    "        for pct_thresh in PCT_THRESHOLDS:\n",
    "            \n",
    "            config = Config()\n",
    "            config.data_dir = '../data'\n",
    "            config.models_dir = '../models'\n",
    "            config.horizon_def = {\n",
    "                'in_freq' : in_freq,\n",
    "                'pct_thresh': pct_thresh / 100.,\n",
    "                'lookahead': lookahead\n",
    "            }\n",
    "\n",
    "            config.max_len = 128\n",
    "            config.fold = 3\n",
    "            config.model_name = f'hslstm/in_freq{in_freq}m-lookahead{lookahead}-pct_thresh{pct_thresh}-seed{seed}'\n",
    "\n",
    "            config.sample_run = False\n",
    "            config.apply_seed(seed = seed)\n",
    "            results = train_model(config = config)"
   ]
  }
 ],
 "metadata": {
  "kernelspec": {
   "display_name": "Python 3",
   "language": "python",
   "name": "python3"
  },
  "language_info": {
   "codemirror_mode": {
    "name": "ipython",
    "version": 3
   },
   "file_extension": ".py",
   "mimetype": "text/x-python",
   "name": "python",
   "nbconvert_exporter": "python",
   "pygments_lexer": "ipython3",
   "version": "3.11.7"
  }
 },
 "nbformat": 4,
 "nbformat_minor": 2
}
