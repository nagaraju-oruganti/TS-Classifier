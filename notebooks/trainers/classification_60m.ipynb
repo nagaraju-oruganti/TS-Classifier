{
 "cells": [
  {
   "cell_type": "code",
   "execution_count": null,
   "metadata": {},
   "outputs": [],
   "source": [
    "import os\n",
    "os.chdir('../../src')\n",
    "print(os.listdir())"
   ]
  },
  {
   "cell_type": "code",
   "execution_count": 2,
   "metadata": {},
   "outputs": [
    {
     "name": "stdout",
     "output_type": "stream",
     "text": [
      ">>> [2024-01-03 19:35:54.839082] - Checkpoint and predictions saved\n",
      "\n",
      ">>> [2024-01-03 19:35:54.839082 | 2/1000 | Early stopping counter 0] \n",
      "    loss          - train: 0.389242     valid: 0.289545 \n",
      "    score         - train: 0.823168     valid: 0.877520 \n",
      "    learning rate        : 5.00000e-05\n",
      "\n"
     ]
    },
    {
     "name": "stderr",
     "output_type": "stream",
     "text": [
      "Epoch 3 | batch 1 / 4:  84%|████████▍ | 3066/3643 [00:20<00:03, 149.80it/s, batch_loss=0.095205, epoch_loss=0.277238, learning_rate=5e-5]"
     ]
    }
   ],
   "source": [
    "from configs.config import Config, INPUT_FREQ, PCT_THRESHOLDS, HORIZONS\n",
    "from train.train import train_model\n",
    "\n",
    "# fold is fixed to 3\n",
    "seed = 42 \n",
    "for lookahead in range(2, 25, 2):\n",
    "    for pct_thresh in PCT_THRESHOLDS:\n",
    "        for in_freq in [60, 120, 240]:\n",
    "            \n",
    "            config = Config()\n",
    "            config.data_dir = '../data'\n",
    "            config.models_dir = '../models'\n",
    "            config.horizon_def = {\n",
    "                'in_freq' : in_freq,\n",
    "                'pct_thresh': pct_thresh / 100.,\n",
    "                'lookahead': lookahead\n",
    "            }   \n",
    "            config.prep_data_path = \"E:\\data\"\n",
    "            config.max_len = 128\n",
    "            config.fold = 3\n",
    "            config.model_name = f'hslstm/in_freq{in_freq}m-lookahead{lookahead}-pct_thresh{pct_thresh}-seed{seed}'\n",
    "\n",
    "            config.sample_run = False\n",
    "            if not os.path.exists(f'{config.models_dir}/{config.model_name}'):\n",
    "                config.apply_seed(seed = seed)\n",
    "                results = train_model(config = config)"
   ]
  }
 ],
 "metadata": {
  "kernelspec": {
   "display_name": "Python 3",
   "language": "python",
   "name": "python3"
  },
  "language_info": {
   "codemirror_mode": {
    "name": "ipython",
    "version": 3
   },
   "file_extension": ".py",
   "mimetype": "text/x-python",
   "name": "python",
   "nbconvert_exporter": "python",
   "pygments_lexer": "ipython3",
   "version": "3.11.7"
  }
 },
 "nbformat": 4,
 "nbformat_minor": 2
}
