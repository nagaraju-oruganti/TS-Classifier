{
 "cells": [
  {
   "cell_type": "code",
   "execution_count": null,
   "metadata": {},
   "outputs": [],
   "source": [
    "import os\n",
    "os.chdir('../../src')\n",
    "print(os.listdir())"
   ]
  },
  {
   "cell_type": "code",
   "execution_count": null,
   "metadata": {},
   "outputs": [],
   "source": [
    "from configs.config import Config, INPUT_FREQ, PCT_THRESHOLDS, HORIZONS\n",
    "from train.train import train_model\n",
    "\n",
    "# fold is fixed to 3\n",
    "seed = 42\n",
    "pct_thresh = 2\n",
    "lookahead = 4\n",
    "vol_multiplier = 20\n",
    "            \n",
    "config = Config()\n",
    "config.data_dir = '../data'\n",
    "config.models_dir = '../models'\n",
    "config.train_with_volumebars = True\n",
    "config.dt_column = 'End'\n",
    "config.horizon_def = {\n",
    "    'vol_bar_multiplier': vol_multiplier,\n",
    "    'in_freq' : 30,\n",
    "    'pct_thresh': pct_thresh / 100.,\n",
    "    'lookahead': lookahead\n",
    "}\n",
    "config.prep_data_path = \"E:\\data\"\n",
    "config.max_len = 32\n",
    "config.fold = 3\n",
    "config.project_on_intrarange = False\n",
    "config.model_name = f'volumebars/on_close/vol{vol_multiplier}-lookahead{lookahead}-pct_thresh{pct_thresh}-seed{seed}'\n",
    "config.train_with_external_drive = False\n",
    "config.learning_rate = 1e-4\n",
    "config.lr_multiplier = 0.1\n",
    "config.lr_patience = 2\n",
    "config.num_epochs = 40\n",
    "#if not os.path.exists(f'{config.models_dir}/{config.model_name}'):\n",
    "config.apply_seed(seed = seed)\n",
    "results = train_model(config = config)"
   ]
  }
 ],
 "metadata": {
  "kernelspec": {
   "display_name": "Python 3",
   "language": "python",
   "name": "python3"
  },
  "language_info": {
   "codemirror_mode": {
    "name": "ipython",
    "version": 3
   },
   "file_extension": ".py",
   "mimetype": "text/x-python",
   "name": "python",
   "nbconvert_exporter": "python",
   "pygments_lexer": "ipython3",
   "version": "3.11.7"
  }
 },
 "nbformat": 4,
 "nbformat_minor": 2
}
