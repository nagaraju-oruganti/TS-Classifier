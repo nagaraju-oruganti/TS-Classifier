{
 "cells": [
  {
   "cell_type": "code",
   "execution_count": 1,
   "metadata": {},
   "outputs": [],
   "source": [
    "import os\n",
    "import glob\n",
    "import pandas as pd\n",
    "import numpy as np\n",
    "import matplotlib.pyplot as plt\n",
    "import seaborn as sns\n",
    "import warnings\n",
    "warnings.filterwarnings('ignore')"
   ]
  },
  {
   "cell_type": "code",
   "execution_count": 2,
   "metadata": {},
   "outputs": [],
   "source": [
    "%%capture\n",
    "%cd '../../src'"
   ]
  },
  {
   "cell_type": "code",
   "execution_count": 3,
   "metadata": {},
   "outputs": [
    {
     "data": {
      "text/plain": [
       "22"
      ]
     },
     "execution_count": 3,
     "metadata": {},
     "output_type": "execute_result"
    }
   ],
   "source": [
    "data_dir = '../../Datasets/data/new_binance'\n",
    "paths = glob.glob(f'{data_dir}/*')\n",
    "paths = [p for p in paths if '.csv' in p]\n",
    "len(paths)"
   ]
  },
  {
   "cell_type": "code",
   "execution_count": 4,
   "metadata": {},
   "outputs": [
    {
     "name": "stdout",
     "output_type": "stream",
     "text": [
      "['LDO'] 2022-09-22 12:00:00\n",
      "['XRP'] 2020-01-06 08:21:00\n",
      "['MATIC'] 2020-10-22 08:01:00\n",
      "['ETC'] 2020-01-16 08:01:00\n",
      "['XLM'] 2020-01-20 08:03:00\n",
      "['ETH'] 2020-01-01 00:00:00\n",
      "['UNI'] 2020-09-18 08:00:00\n",
      "['XMR'] 2020-02-03 08:03:00\n",
      "['ADA'] 2020-01-31 08:01:00\n",
      "['LTC'] 2020-01-09 08:09:00\n",
      "['DOT'] 2020-08-22 08:00:00\n",
      "['BTC'] 2020-01-01 00:00:00\n",
      "['AVAX'] 2020-09-23 08:00:00\n",
      "['FIL'] 2020-10-16 07:00:00\n",
      "['SOL'] 2020-09-14 08:00:00\n",
      "['ATOM'] 2020-02-07 12:11:00\n",
      "['LINK'] 2020-01-17 08:00:00\n",
      "['TRX'] 2020-01-15 08:05:00\n",
      "['BNB'] 2020-02-10 08:01:00\n",
      "['1000SHIB'] 2021-05-10 18:37:00\n",
      "['DOGE'] 2020-07-10 10:00:00\n",
      "['ICP'] 2022-09-27 02:30:00\n"
     ]
    }
   ],
   "source": [
    "for path in paths:\n",
    "    df = pd.read_csv(path, index_col=0)\n",
    "    df['Datetime'] = pd.to_datetime(df['Datetime'])\n",
    "    print(df['tic'].unique(), df['Datetime'].min())"
   ]
  },
  {
   "cell_type": "code",
   "execution_count": null,
   "metadata": {},
   "outputs": [],
   "source": [
    "cols = ['Datetime', 'Close', 'High', 'Low']\n",
    "data = pd.DataFrame()\n",
    "tickers = []\n",
    "for path in paths:\n",
    "    tic = path.split('/')[-1].replace('.csv', '')\n",
    "    df = pd.read_csv(path)\n",
    "    df['Datetime'] = pd.to_datetime(df['Datetime'])\n",
    "    df.sort_values(by = 'Datetime', ascending = True, inplace = True)\n",
    "    df[f'High_{tic}'] = df['High'] / df['Close'].shift(1)\n",
    "    df[f'Low_{tic}'] = df['Low'] / df['Close'].shift(1)\n",
    "    df[f'Close_{tic}'] = df['Close'] / df['Close'].shift(1)\n",
    "    df = df[['Datetime'] + [c for c in df.columns if tic in c]]\n",
    "    data = data.merge(df, on = 'Datetime', how = 'outer') if not data.empty else df\n",
    "data = data.fillna(method = 'bfill').fillna(method = 'ffill')"
   ]
  },
  {
   "cell_type": "code",
   "execution_count": null,
   "metadata": {},
   "outputs": [],
   "source": [
    "data"
   ]
  },
  {
   "cell_type": "code",
   "execution_count": null,
   "metadata": {},
   "outputs": [],
   "source": [
    "df.fillna(method = 'bfill').fillna(method = 'ffill')"
   ]
  },
  {
   "cell_type": "code",
   "execution_count": null,
   "metadata": {},
   "outputs": [],
   "source": []
  }
 ],
 "metadata": {
  "kernelspec": {
   "display_name": "Python 3",
   "language": "python",
   "name": "python3"
  },
  "language_info": {
   "codemirror_mode": {
    "name": "ipython",
    "version": 3
   },
   "file_extension": ".py",
   "mimetype": "text/x-python",
   "name": "python",
   "nbconvert_exporter": "python",
   "pygments_lexer": "ipython3",
   "version": "3.10.9"
  }
 },
 "nbformat": 4,
 "nbformat_minor": 2
}
