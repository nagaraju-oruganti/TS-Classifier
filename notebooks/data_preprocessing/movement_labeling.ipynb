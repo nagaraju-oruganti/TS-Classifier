{
 "cells": [
  {
   "cell_type": "code",
   "execution_count": 1,
   "metadata": {},
   "outputs": [],
   "source": [
    "%%capture\n",
    "%cd '../../src'\n",
    "\n",
    "import os\n",
    "import glob\n",
    "import pandas as pd\n",
    "import numpy as np\n",
    "import math\n",
    "import matplotlib.pyplot as plt\n",
    "import seaborn as sns\n",
    "import warnings\n",
    "warnings.filterwarnings('ignore')"
   ]
  },
  {
   "cell_type": "code",
   "execution_count": 2,
   "metadata": {},
   "outputs": [],
   "source": [
    "data_dir = '../data/raw'"
   ]
  },
  {
   "cell_type": "code",
   "execution_count": 3,
   "metadata": {},
   "outputs": [],
   "source": [
    "ohlc_dict = {\n",
    "    'Open'  :'first',\n",
    "    'High'  :'max',\n",
    "    'Low'   :'min',\n",
    "    'Close' :'last',\n",
    "    'Volume':'sum'\n",
    "    }"
   ]
  },
  {
   "cell_type": "code",
   "execution_count": 4,
   "metadata": {},
   "outputs": [
    {
     "data": {
      "text/html": [
       "<div>\n",
       "<style scoped>\n",
       "    .dataframe tbody tr th:only-of-type {\n",
       "        vertical-align: middle;\n",
       "    }\n",
       "\n",
       "    .dataframe tbody tr th {\n",
       "        vertical-align: top;\n",
       "    }\n",
       "\n",
       "    .dataframe thead th {\n",
       "        text-align: right;\n",
       "    }\n",
       "</style>\n",
       "<table border=\"1\" class=\"dataframe\">\n",
       "  <thead>\n",
       "    <tr style=\"text-align: right;\">\n",
       "      <th></th>\n",
       "      <th>Datetime</th>\n",
       "      <th>Open</th>\n",
       "      <th>High</th>\n",
       "      <th>Low</th>\n",
       "      <th>Close</th>\n",
       "      <th>Volume</th>\n",
       "    </tr>\n",
       "  </thead>\n",
       "  <tbody>\n",
       "    <tr>\n",
       "      <th>0</th>\n",
       "      <td>2020-01-06 08:21:00</td>\n",
       "      <td>0.197</td>\n",
       "      <td>0.197</td>\n",
       "      <td>0.197</td>\n",
       "      <td>0.197</td>\n",
       "      <td>6111.6</td>\n",
       "    </tr>\n",
       "    <tr>\n",
       "      <th>1</th>\n",
       "      <td>2020-01-06 08:22:00</td>\n",
       "      <td>0.197</td>\n",
       "      <td>0.197</td>\n",
       "      <td>0.197</td>\n",
       "      <td>0.197</td>\n",
       "      <td>0.0</td>\n",
       "    </tr>\n",
       "    <tr>\n",
       "      <th>2</th>\n",
       "      <td>2020-01-06 08:23:00</td>\n",
       "      <td>0.197</td>\n",
       "      <td>0.197</td>\n",
       "      <td>0.197</td>\n",
       "      <td>0.197</td>\n",
       "      <td>0.0</td>\n",
       "    </tr>\n",
       "    <tr>\n",
       "      <th>3</th>\n",
       "      <td>2020-01-06 08:24:00</td>\n",
       "      <td>0.197</td>\n",
       "      <td>0.197</td>\n",
       "      <td>0.197</td>\n",
       "      <td>0.197</td>\n",
       "      <td>0.0</td>\n",
       "    </tr>\n",
       "    <tr>\n",
       "      <th>4</th>\n",
       "      <td>2020-01-06 08:25:00</td>\n",
       "      <td>0.197</td>\n",
       "      <td>0.197</td>\n",
       "      <td>0.197</td>\n",
       "      <td>0.197</td>\n",
       "      <td>0.0</td>\n",
       "    </tr>\n",
       "  </tbody>\n",
       "</table>\n",
       "</div>"
      ],
      "text/plain": [
       "             Datetime   Open   High    Low  Close  Volume\n",
       "0 2020-01-06 08:21:00  0.197  0.197  0.197  0.197  6111.6\n",
       "1 2020-01-06 08:22:00  0.197  0.197  0.197  0.197     0.0\n",
       "2 2020-01-06 08:23:00  0.197  0.197  0.197  0.197     0.0\n",
       "3 2020-01-06 08:24:00  0.197  0.197  0.197  0.197     0.0\n",
       "4 2020-01-06 08:25:00  0.197  0.197  0.197  0.197     0.0"
      ]
     },
     "execution_count": 4,
     "metadata": {},
     "output_type": "execute_result"
    }
   ],
   "source": [
    "file = 'XRP_1m.pqt'\n",
    "df = pd.read_parquet(f'{data_dir}/{file}')\n",
    "df['Datetime'] = pd.to_datetime(df['Datetime'])\n",
    "df.sort_values(by = 'Datetime', ascending = True, inplace = True)\n",
    "df.head(5)"
   ]
  },
  {
   "cell_type": "code",
   "execution_count": 5,
   "metadata": {},
   "outputs": [],
   "source": [
    "# sns.lineplot(data = df, x = 'Datetime', y = 'Close')\n",
    "# plt.show()"
   ]
  },
  {
   "cell_type": "code",
   "execution_count": 6,
   "metadata": {},
   "outputs": [
    {
     "data": {
      "text/plain": [
       "(Timestamp('2020-01-06 08:21:00'), Timestamp('2023-10-13 23:59:00'))"
      ]
     },
     "execution_count": 6,
     "metadata": {},
     "output_type": "execute_result"
    }
   ],
   "source": [
    "df['Datetime'].min(), df['Datetime'].max()"
   ]
  },
  {
   "cell_type": "code",
   "execution_count": 7,
   "metadata": {},
   "outputs": [
    {
     "name": "stdout",
     "output_type": "stream",
     "text": [
      "look ahead time periods: 12\n"
     ]
    }
   ],
   "source": [
    "horizon_def = {\n",
    "    'in_freq'       : 120,           # minutes\n",
    "    'pct_thresh'    : 2/100.,\n",
    "    'lookahead'     : 60 * 24,       # minutes\n",
    "    }\n",
    "\n",
    "in_freq = horizon_def['in_freq']\n",
    "pct_thresh = horizon_def['pct_thresh']\n",
    "lookahead = math.ceil(horizon_def['lookahead'] / in_freq)\n",
    "print(f'look ahead time periods: {lookahead}')"
   ]
  },
  {
   "cell_type": "code",
   "execution_count": 8,
   "metadata": {},
   "outputs": [],
   "source": [
    "in_freqs = [1, 3, 5, 10] + list(range(15, 121, 15))\n",
    "lookaheads = [60 * h for h in range(1, 26)]\n",
    "#in_freqs, lookaheads"
   ]
  },
  {
   "cell_type": "code",
   "execution_count": 9,
   "metadata": {},
   "outputs": [
    {
     "data": {
      "text/html": [
       "<div>\n",
       "<style scoped>\n",
       "    .dataframe tbody tr th:only-of-type {\n",
       "        vertical-align: middle;\n",
       "    }\n",
       "\n",
       "    .dataframe tbody tr th {\n",
       "        vertical-align: top;\n",
       "    }\n",
       "\n",
       "    .dataframe thead th {\n",
       "        text-align: right;\n",
       "    }\n",
       "</style>\n",
       "<table border=\"1\" class=\"dataframe\">\n",
       "  <thead>\n",
       "    <tr style=\"text-align: right;\">\n",
       "      <th></th>\n",
       "      <th>Datetime</th>\n",
       "      <th>Open</th>\n",
       "      <th>High</th>\n",
       "      <th>Low</th>\n",
       "      <th>Close</th>\n",
       "      <th>Volume</th>\n",
       "      <th>label_long</th>\n",
       "      <th>label_short</th>\n",
       "    </tr>\n",
       "  </thead>\n",
       "  <tbody>\n",
       "    <tr>\n",
       "      <th>0</th>\n",
       "      <td>2020-01-06 08:00:00</td>\n",
       "      <td>0.1970</td>\n",
       "      <td>0.2222</td>\n",
       "      <td>0.1970</td>\n",
       "      <td>0.2127</td>\n",
       "      <td>6682635.7</td>\n",
       "      <td>1</td>\n",
       "      <td>0</td>\n",
       "    </tr>\n",
       "    <tr>\n",
       "      <th>1</th>\n",
       "      <td>2020-01-06 10:00:00</td>\n",
       "      <td>0.2127</td>\n",
       "      <td>0.2198</td>\n",
       "      <td>0.2105</td>\n",
       "      <td>0.2130</td>\n",
       "      <td>7313724.3</td>\n",
       "      <td>1</td>\n",
       "      <td>0</td>\n",
       "    </tr>\n",
       "    <tr>\n",
       "      <th>2</th>\n",
       "      <td>2020-01-06 12:00:00</td>\n",
       "      <td>0.2130</td>\n",
       "      <td>0.2180</td>\n",
       "      <td>0.2108</td>\n",
       "      <td>0.2120</td>\n",
       "      <td>8844217.7</td>\n",
       "      <td>1</td>\n",
       "      <td>0</td>\n",
       "    </tr>\n",
       "    <tr>\n",
       "      <th>3</th>\n",
       "      <td>2020-01-06 14:00:00</td>\n",
       "      <td>0.2120</td>\n",
       "      <td>0.2152</td>\n",
       "      <td>0.2109</td>\n",
       "      <td>0.2124</td>\n",
       "      <td>9118517.3</td>\n",
       "      <td>1</td>\n",
       "      <td>1</td>\n",
       "    </tr>\n",
       "    <tr>\n",
       "      <th>4</th>\n",
       "      <td>2020-01-06 16:00:00</td>\n",
       "      <td>0.2124</td>\n",
       "      <td>0.2209</td>\n",
       "      <td>0.2115</td>\n",
       "      <td>0.2186</td>\n",
       "      <td>20605594.5</td>\n",
       "      <td>0</td>\n",
       "      <td>1</td>\n",
       "    </tr>\n",
       "    <tr>\n",
       "      <th>5</th>\n",
       "      <td>2020-01-06 18:00:00</td>\n",
       "      <td>0.2186</td>\n",
       "      <td>0.2206</td>\n",
       "      <td>0.2172</td>\n",
       "      <td>0.2194</td>\n",
       "      <td>6783720.5</td>\n",
       "      <td>0</td>\n",
       "      <td>1</td>\n",
       "    </tr>\n",
       "    <tr>\n",
       "      <th>6</th>\n",
       "      <td>2020-01-06 20:00:00</td>\n",
       "      <td>0.2195</td>\n",
       "      <td>0.2257</td>\n",
       "      <td>0.2175</td>\n",
       "      <td>0.2179</td>\n",
       "      <td>17405364.1</td>\n",
       "      <td>1</td>\n",
       "      <td>1</td>\n",
       "    </tr>\n",
       "    <tr>\n",
       "      <th>7</th>\n",
       "      <td>2020-01-06 22:00:00</td>\n",
       "      <td>0.2179</td>\n",
       "      <td>0.2259</td>\n",
       "      <td>0.2169</td>\n",
       "      <td>0.2226</td>\n",
       "      <td>15268444.8</td>\n",
       "      <td>0</td>\n",
       "      <td>1</td>\n",
       "    </tr>\n",
       "    <tr>\n",
       "      <th>8</th>\n",
       "      <td>2020-01-07 00:00:00</td>\n",
       "      <td>0.2227</td>\n",
       "      <td>0.2297</td>\n",
       "      <td>0.2191</td>\n",
       "      <td>0.2224</td>\n",
       "      <td>12309719.5</td>\n",
       "      <td>0</td>\n",
       "      <td>1</td>\n",
       "    </tr>\n",
       "    <tr>\n",
       "      <th>9</th>\n",
       "      <td>2020-01-07 02:00:00</td>\n",
       "      <td>0.2224</td>\n",
       "      <td>0.2238</td>\n",
       "      <td>0.2183</td>\n",
       "      <td>0.2196</td>\n",
       "      <td>6355407.5</td>\n",
       "      <td>0</td>\n",
       "      <td>1</td>\n",
       "    </tr>\n",
       "  </tbody>\n",
       "</table>\n",
       "</div>"
      ],
      "text/plain": [
       "             Datetime    Open    High     Low   Close      Volume  label_long  \\\n",
       "0 2020-01-06 08:00:00  0.1970  0.2222  0.1970  0.2127   6682635.7           1   \n",
       "1 2020-01-06 10:00:00  0.2127  0.2198  0.2105  0.2130   7313724.3           1   \n",
       "2 2020-01-06 12:00:00  0.2130  0.2180  0.2108  0.2120   8844217.7           1   \n",
       "3 2020-01-06 14:00:00  0.2120  0.2152  0.2109  0.2124   9118517.3           1   \n",
       "4 2020-01-06 16:00:00  0.2124  0.2209  0.2115  0.2186  20605594.5           0   \n",
       "5 2020-01-06 18:00:00  0.2186  0.2206  0.2172  0.2194   6783720.5           0   \n",
       "6 2020-01-06 20:00:00  0.2195  0.2257  0.2175  0.2179  17405364.1           1   \n",
       "7 2020-01-06 22:00:00  0.2179  0.2259  0.2169  0.2226  15268444.8           0   \n",
       "8 2020-01-07 00:00:00  0.2227  0.2297  0.2191  0.2224  12309719.5           0   \n",
       "9 2020-01-07 02:00:00  0.2224  0.2238  0.2183  0.2196   6355407.5           0   \n",
       "\n",
       "   label_short  \n",
       "0            0  \n",
       "1            0  \n",
       "2            0  \n",
       "3            1  \n",
       "4            1  \n",
       "5            1  \n",
       "6            1  \n",
       "7            1  \n",
       "8            1  \n",
       "9            1  "
      ]
     },
     "execution_count": 9,
     "metadata": {},
     "output_type": "execute_result"
    }
   ],
   "source": [
    "# Resample to desired time interval\n",
    "df = df.resample(f'{in_freq}T', on = 'Datetime').agg(ohlc_dict)\n",
    "df.reset_index(inplace = True, drop = False)\n",
    "\n",
    "# Long labeling\n",
    "df['tgt_long'] = df['Close'] * (1 + pct_thresh)\n",
    "df['rolling'] = df['Close'].rolling(lookahead).max().shift(-lookahead)\n",
    "df['label_long'] = (df['rolling'] >= df['tgt_long']) * 1\n",
    "\n",
    "# Short labeling\n",
    "df['tgt_short'] = df['Close'] * (1 - pct_thresh)\n",
    "df['rolling'] = df['Close'].rolling(lookahead).min().shift(-lookahead)\n",
    "df['label_short'] = (df['rolling'] <= df['tgt_short']) * 1\n",
    "\n",
    "df.drop(columns = ['tgt_long', 'tgt_short', 'rolling'], inplace = True)\n",
    "\n",
    "df.head(10)"
   ]
  },
  {
   "cell_type": "code",
   "execution_count": 10,
   "metadata": {},
   "outputs": [],
   "source": [
    "def label_consolidator(row):\n",
    "    lng = row['label_long']\n",
    "    sht = row['label_short']\n",
    "    \n",
    "    combined = lng + sht\n",
    "    if combined == 2:\n",
    "        # anything can possible\n",
    "        label = 'either'\n",
    "    elif combined == 1:\n",
    "        label = 'long' if lng > sht else 'short'\n",
    "    elif combined == 0:\n",
    "        label = 'neither'\n",
    "    else: \n",
    "        label = None\n",
    "        \n",
    "    return label"
   ]
  },
  {
   "cell_type": "code",
   "execution_count": 11,
   "metadata": {},
   "outputs": [],
   "source": [
    "df['label'] = df.apply(lambda r: label_consolidator(r), axis = 1)"
   ]
  },
  {
   "cell_type": "code",
   "execution_count": 12,
   "metadata": {},
   "outputs": [
    {
     "name": "stdout",
     "output_type": "stream",
     "text": [
      "Long  : {0: 58.67433414043583, 1: 41.32566585956417}\n",
      "Short : {0: 58.19007263922518, 1: 41.809927360774815}\n"
     ]
    }
   ],
   "source": [
    "print('Long  :', (df['label_long'].value_counts() / len(df) * 100).to_dict())\n",
    "print('Short :', (df['label_short'].value_counts() / len(df) * 100).to_dict())"
   ]
  },
  {
   "cell_type": "code",
   "execution_count": 13,
   "metadata": {},
   "outputs": [
    {
     "data": {
      "text/plain": [
       "short      5511\n",
       "long       5431\n",
       "neither    4182\n",
       "either     1396\n",
       "Name: label, dtype: int64"
      ]
     },
     "execution_count": 13,
     "metadata": {},
     "output_type": "execute_result"
    }
   ],
   "source": [
    "df['label'].value_counts()"
   ]
  },
  {
   "cell_type": "code",
   "execution_count": 14,
   "metadata": {},
   "outputs": [
    {
     "data": {
      "text/plain": [
       "short      0.333596\n",
       "long       0.328753\n",
       "neither    0.253148\n",
       "either     0.084504\n",
       "Name: label, dtype: float64"
      ]
     },
     "execution_count": 14,
     "metadata": {},
     "output_type": "execute_result"
    }
   ],
   "source": [
    "df['label'].value_counts() / len(df)"
   ]
  },
  {
   "cell_type": "code",
   "execution_count": null,
   "metadata": {},
   "outputs": [],
   "source": []
  }
 ],
 "metadata": {
  "kernelspec": {
   "display_name": "Python 3",
   "language": "python",
   "name": "python3"
  },
  "language_info": {
   "codemirror_mode": {
    "name": "ipython",
    "version": 3
   },
   "file_extension": ".py",
   "mimetype": "text/x-python",
   "name": "python",
   "nbconvert_exporter": "python",
   "pygments_lexer": "ipython3",
   "version": "3.9.6"
  }
 },
 "nbformat": 4,
 "nbformat_minor": 2
}
